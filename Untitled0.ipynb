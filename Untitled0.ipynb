{
  "nbformat": 4,
  "nbformat_minor": 0,
  "metadata": {
    "colab": {
      "provenance": [],
      "authorship_tag": "ABX9TyP5/DBxgLnHew6aixHqTEYE",
      "include_colab_link": true
    },
    "kernelspec": {
      "name": "python3",
      "display_name": "Python 3"
    },
    "language_info": {
      "name": "python"
    },
    "widgets": {
      "application/vnd.jupyter.widget-state+json": {
        "11801d5aa86849ef950474ab06e47bd7": {
          "model_module": "@jupyter-widgets/controls",
          "model_name": "HBoxModel",
          "model_module_version": "1.5.0",
          "state": {
            "_dom_classes": [],
            "_model_module": "@jupyter-widgets/controls",
            "_model_module_version": "1.5.0",
            "_model_name": "HBoxModel",
            "_view_count": null,
            "_view_module": "@jupyter-widgets/controls",
            "_view_module_version": "1.5.0",
            "_view_name": "HBoxView",
            "box_style": "",
            "children": [
              "IPY_MODEL_c4f8b6e573114876b5b3ff3fb638c7ab",
              "IPY_MODEL_b79b26fff281461893b34f4c22125996",
              "IPY_MODEL_bbdc4493861544ac9095a94cd8b8c72c"
            ],
            "layout": "IPY_MODEL_7f1cc2c6977f4c1a813ab98fe20cd67c"
          }
        },
        "c4f8b6e573114876b5b3ff3fb638c7ab": {
          "model_module": "@jupyter-widgets/controls",
          "model_name": "HTMLModel",
          "model_module_version": "1.5.0",
          "state": {
            "_dom_classes": [],
            "_model_module": "@jupyter-widgets/controls",
            "_model_module_version": "1.5.0",
            "_model_name": "HTMLModel",
            "_view_count": null,
            "_view_module": "@jupyter-widgets/controls",
            "_view_module_version": "1.5.0",
            "_view_name": "HTMLView",
            "description": "",
            "description_tooltip": null,
            "layout": "IPY_MODEL_b9fb9f786bbb47ffa94e1a43c1ed710a",
            "placeholder": "​",
            "style": "IPY_MODEL_510aa901bd904f03b571cd76c263ea17",
            "value": "config.json: 100%"
          }
        },
        "b79b26fff281461893b34f4c22125996": {
          "model_module": "@jupyter-widgets/controls",
          "model_name": "FloatProgressModel",
          "model_module_version": "1.5.0",
          "state": {
            "_dom_classes": [],
            "_model_module": "@jupyter-widgets/controls",
            "_model_module_version": "1.5.0",
            "_model_name": "FloatProgressModel",
            "_view_count": null,
            "_view_module": "@jupyter-widgets/controls",
            "_view_module_version": "1.5.0",
            "_view_name": "ProgressView",
            "bar_style": "success",
            "description": "",
            "description_tooltip": null,
            "layout": "IPY_MODEL_30d323e22b7f48c8b5a658899b86c84c",
            "max": 629,
            "min": 0,
            "orientation": "horizontal",
            "style": "IPY_MODEL_89576c8c2392410d9902417e03f627ca",
            "value": 629
          }
        },
        "bbdc4493861544ac9095a94cd8b8c72c": {
          "model_module": "@jupyter-widgets/controls",
          "model_name": "HTMLModel",
          "model_module_version": "1.5.0",
          "state": {
            "_dom_classes": [],
            "_model_module": "@jupyter-widgets/controls",
            "_model_module_version": "1.5.0",
            "_model_name": "HTMLModel",
            "_view_count": null,
            "_view_module": "@jupyter-widgets/controls",
            "_view_module_version": "1.5.0",
            "_view_name": "HTMLView",
            "description": "",
            "description_tooltip": null,
            "layout": "IPY_MODEL_126cbe66671f4bf5a1feaee0f1362f42",
            "placeholder": "​",
            "style": "IPY_MODEL_6e4f969891c34b84ad01b6339cd144f4",
            "value": " 629/629 [00:00&lt;00:00, 36.7kB/s]"
          }
        },
        "7f1cc2c6977f4c1a813ab98fe20cd67c": {
          "model_module": "@jupyter-widgets/base",
          "model_name": "LayoutModel",
          "model_module_version": "1.2.0",
          "state": {
            "_model_module": "@jupyter-widgets/base",
            "_model_module_version": "1.2.0",
            "_model_name": "LayoutModel",
            "_view_count": null,
            "_view_module": "@jupyter-widgets/base",
            "_view_module_version": "1.2.0",
            "_view_name": "LayoutView",
            "align_content": null,
            "align_items": null,
            "align_self": null,
            "border": null,
            "bottom": null,
            "display": null,
            "flex": null,
            "flex_flow": null,
            "grid_area": null,
            "grid_auto_columns": null,
            "grid_auto_flow": null,
            "grid_auto_rows": null,
            "grid_column": null,
            "grid_gap": null,
            "grid_row": null,
            "grid_template_areas": null,
            "grid_template_columns": null,
            "grid_template_rows": null,
            "height": null,
            "justify_content": null,
            "justify_items": null,
            "left": null,
            "margin": null,
            "max_height": null,
            "max_width": null,
            "min_height": null,
            "min_width": null,
            "object_fit": null,
            "object_position": null,
            "order": null,
            "overflow": null,
            "overflow_x": null,
            "overflow_y": null,
            "padding": null,
            "right": null,
            "top": null,
            "visibility": null,
            "width": null
          }
        },
        "b9fb9f786bbb47ffa94e1a43c1ed710a": {
          "model_module": "@jupyter-widgets/base",
          "model_name": "LayoutModel",
          "model_module_version": "1.2.0",
          "state": {
            "_model_module": "@jupyter-widgets/base",
            "_model_module_version": "1.2.0",
            "_model_name": "LayoutModel",
            "_view_count": null,
            "_view_module": "@jupyter-widgets/base",
            "_view_module_version": "1.2.0",
            "_view_name": "LayoutView",
            "align_content": null,
            "align_items": null,
            "align_self": null,
            "border": null,
            "bottom": null,
            "display": null,
            "flex": null,
            "flex_flow": null,
            "grid_area": null,
            "grid_auto_columns": null,
            "grid_auto_flow": null,
            "grid_auto_rows": null,
            "grid_column": null,
            "grid_gap": null,
            "grid_row": null,
            "grid_template_areas": null,
            "grid_template_columns": null,
            "grid_template_rows": null,
            "height": null,
            "justify_content": null,
            "justify_items": null,
            "left": null,
            "margin": null,
            "max_height": null,
            "max_width": null,
            "min_height": null,
            "min_width": null,
            "object_fit": null,
            "object_position": null,
            "order": null,
            "overflow": null,
            "overflow_x": null,
            "overflow_y": null,
            "padding": null,
            "right": null,
            "top": null,
            "visibility": null,
            "width": null
          }
        },
        "510aa901bd904f03b571cd76c263ea17": {
          "model_module": "@jupyter-widgets/controls",
          "model_name": "DescriptionStyleModel",
          "model_module_version": "1.5.0",
          "state": {
            "_model_module": "@jupyter-widgets/controls",
            "_model_module_version": "1.5.0",
            "_model_name": "DescriptionStyleModel",
            "_view_count": null,
            "_view_module": "@jupyter-widgets/base",
            "_view_module_version": "1.2.0",
            "_view_name": "StyleView",
            "description_width": ""
          }
        },
        "30d323e22b7f48c8b5a658899b86c84c": {
          "model_module": "@jupyter-widgets/base",
          "model_name": "LayoutModel",
          "model_module_version": "1.2.0",
          "state": {
            "_model_module": "@jupyter-widgets/base",
            "_model_module_version": "1.2.0",
            "_model_name": "LayoutModel",
            "_view_count": null,
            "_view_module": "@jupyter-widgets/base",
            "_view_module_version": "1.2.0",
            "_view_name": "LayoutView",
            "align_content": null,
            "align_items": null,
            "align_self": null,
            "border": null,
            "bottom": null,
            "display": null,
            "flex": null,
            "flex_flow": null,
            "grid_area": null,
            "grid_auto_columns": null,
            "grid_auto_flow": null,
            "grid_auto_rows": null,
            "grid_column": null,
            "grid_gap": null,
            "grid_row": null,
            "grid_template_areas": null,
            "grid_template_columns": null,
            "grid_template_rows": null,
            "height": null,
            "justify_content": null,
            "justify_items": null,
            "left": null,
            "margin": null,
            "max_height": null,
            "max_width": null,
            "min_height": null,
            "min_width": null,
            "object_fit": null,
            "object_position": null,
            "order": null,
            "overflow": null,
            "overflow_x": null,
            "overflow_y": null,
            "padding": null,
            "right": null,
            "top": null,
            "visibility": null,
            "width": null
          }
        },
        "89576c8c2392410d9902417e03f627ca": {
          "model_module": "@jupyter-widgets/controls",
          "model_name": "ProgressStyleModel",
          "model_module_version": "1.5.0",
          "state": {
            "_model_module": "@jupyter-widgets/controls",
            "_model_module_version": "1.5.0",
            "_model_name": "ProgressStyleModel",
            "_view_count": null,
            "_view_module": "@jupyter-widgets/base",
            "_view_module_version": "1.2.0",
            "_view_name": "StyleView",
            "bar_color": null,
            "description_width": ""
          }
        },
        "126cbe66671f4bf5a1feaee0f1362f42": {
          "model_module": "@jupyter-widgets/base",
          "model_name": "LayoutModel",
          "model_module_version": "1.2.0",
          "state": {
            "_model_module": "@jupyter-widgets/base",
            "_model_module_version": "1.2.0",
            "_model_name": "LayoutModel",
            "_view_count": null,
            "_view_module": "@jupyter-widgets/base",
            "_view_module_version": "1.2.0",
            "_view_name": "LayoutView",
            "align_content": null,
            "align_items": null,
            "align_self": null,
            "border": null,
            "bottom": null,
            "display": null,
            "flex": null,
            "flex_flow": null,
            "grid_area": null,
            "grid_auto_columns": null,
            "grid_auto_flow": null,
            "grid_auto_rows": null,
            "grid_column": null,
            "grid_gap": null,
            "grid_row": null,
            "grid_template_areas": null,
            "grid_template_columns": null,
            "grid_template_rows": null,
            "height": null,
            "justify_content": null,
            "justify_items": null,
            "left": null,
            "margin": null,
            "max_height": null,
            "max_width": null,
            "min_height": null,
            "min_width": null,
            "object_fit": null,
            "object_position": null,
            "order": null,
            "overflow": null,
            "overflow_x": null,
            "overflow_y": null,
            "padding": null,
            "right": null,
            "top": null,
            "visibility": null,
            "width": null
          }
        },
        "6e4f969891c34b84ad01b6339cd144f4": {
          "model_module": "@jupyter-widgets/controls",
          "model_name": "DescriptionStyleModel",
          "model_module_version": "1.5.0",
          "state": {
            "_model_module": "@jupyter-widgets/controls",
            "_model_module_version": "1.5.0",
            "_model_name": "DescriptionStyleModel",
            "_view_count": null,
            "_view_module": "@jupyter-widgets/base",
            "_view_module_version": "1.2.0",
            "_view_name": "StyleView",
            "description_width": ""
          }
        },
        "8048a311d6d84ee2a0730ae2fd7396e7": {
          "model_module": "@jupyter-widgets/controls",
          "model_name": "HBoxModel",
          "model_module_version": "1.5.0",
          "state": {
            "_dom_classes": [],
            "_model_module": "@jupyter-widgets/controls",
            "_model_module_version": "1.5.0",
            "_model_name": "HBoxModel",
            "_view_count": null,
            "_view_module": "@jupyter-widgets/controls",
            "_view_module_version": "1.5.0",
            "_view_name": "HBoxView",
            "box_style": "",
            "children": [
              "IPY_MODEL_54f6b5ca445340489c5756a801710acf",
              "IPY_MODEL_f9ab8ed79fb241b9a6a31d549442ea35",
              "IPY_MODEL_dcd148aae74847ef86a0fb5c5eda8ed4"
            ],
            "layout": "IPY_MODEL_30ade819824641d48b52c2222cb2ce35"
          }
        },
        "54f6b5ca445340489c5756a801710acf": {
          "model_module": "@jupyter-widgets/controls",
          "model_name": "HTMLModel",
          "model_module_version": "1.5.0",
          "state": {
            "_dom_classes": [],
            "_model_module": "@jupyter-widgets/controls",
            "_model_module_version": "1.5.0",
            "_model_name": "HTMLModel",
            "_view_count": null,
            "_view_module": "@jupyter-widgets/controls",
            "_view_module_version": "1.5.0",
            "_view_name": "HTMLView",
            "description": "",
            "description_tooltip": null,
            "layout": "IPY_MODEL_83d62c761d88449fbab19c3fa709fdc0",
            "placeholder": "​",
            "style": "IPY_MODEL_fe10cb262c9f4a7d841b72b506e20b17",
            "value": "model.safetensors: 100%"
          }
        },
        "f9ab8ed79fb241b9a6a31d549442ea35": {
          "model_module": "@jupyter-widgets/controls",
          "model_name": "FloatProgressModel",
          "model_module_version": "1.5.0",
          "state": {
            "_dom_classes": [],
            "_model_module": "@jupyter-widgets/controls",
            "_model_module_version": "1.5.0",
            "_model_name": "FloatProgressModel",
            "_view_count": null,
            "_view_module": "@jupyter-widgets/controls",
            "_view_module_version": "1.5.0",
            "_view_name": "ProgressView",
            "bar_style": "success",
            "description": "",
            "description_tooltip": null,
            "layout": "IPY_MODEL_68d9f212e30c419dbbb5d67c5baed738",
            "max": 267832558,
            "min": 0,
            "orientation": "horizontal",
            "style": "IPY_MODEL_de5115ea117647bf812a62830c7a0681",
            "value": 267832558
          }
        },
        "dcd148aae74847ef86a0fb5c5eda8ed4": {
          "model_module": "@jupyter-widgets/controls",
          "model_name": "HTMLModel",
          "model_module_version": "1.5.0",
          "state": {
            "_dom_classes": [],
            "_model_module": "@jupyter-widgets/controls",
            "_model_module_version": "1.5.0",
            "_model_name": "HTMLModel",
            "_view_count": null,
            "_view_module": "@jupyter-widgets/controls",
            "_view_module_version": "1.5.0",
            "_view_name": "HTMLView",
            "description": "",
            "description_tooltip": null,
            "layout": "IPY_MODEL_32523d20a12347c19aab332cf24cdeec",
            "placeholder": "​",
            "style": "IPY_MODEL_e2160ae9ec2b4c6e8af05ab0d312c0d2",
            "value": " 268M/268M [00:10&lt;00:00, 29.4MB/s]"
          }
        },
        "30ade819824641d48b52c2222cb2ce35": {
          "model_module": "@jupyter-widgets/base",
          "model_name": "LayoutModel",
          "model_module_version": "1.2.0",
          "state": {
            "_model_module": "@jupyter-widgets/base",
            "_model_module_version": "1.2.0",
            "_model_name": "LayoutModel",
            "_view_count": null,
            "_view_module": "@jupyter-widgets/base",
            "_view_module_version": "1.2.0",
            "_view_name": "LayoutView",
            "align_content": null,
            "align_items": null,
            "align_self": null,
            "border": null,
            "bottom": null,
            "display": null,
            "flex": null,
            "flex_flow": null,
            "grid_area": null,
            "grid_auto_columns": null,
            "grid_auto_flow": null,
            "grid_auto_rows": null,
            "grid_column": null,
            "grid_gap": null,
            "grid_row": null,
            "grid_template_areas": null,
            "grid_template_columns": null,
            "grid_template_rows": null,
            "height": null,
            "justify_content": null,
            "justify_items": null,
            "left": null,
            "margin": null,
            "max_height": null,
            "max_width": null,
            "min_height": null,
            "min_width": null,
            "object_fit": null,
            "object_position": null,
            "order": null,
            "overflow": null,
            "overflow_x": null,
            "overflow_y": null,
            "padding": null,
            "right": null,
            "top": null,
            "visibility": null,
            "width": null
          }
        },
        "83d62c761d88449fbab19c3fa709fdc0": {
          "model_module": "@jupyter-widgets/base",
          "model_name": "LayoutModel",
          "model_module_version": "1.2.0",
          "state": {
            "_model_module": "@jupyter-widgets/base",
            "_model_module_version": "1.2.0",
            "_model_name": "LayoutModel",
            "_view_count": null,
            "_view_module": "@jupyter-widgets/base",
            "_view_module_version": "1.2.0",
            "_view_name": "LayoutView",
            "align_content": null,
            "align_items": null,
            "align_self": null,
            "border": null,
            "bottom": null,
            "display": null,
            "flex": null,
            "flex_flow": null,
            "grid_area": null,
            "grid_auto_columns": null,
            "grid_auto_flow": null,
            "grid_auto_rows": null,
            "grid_column": null,
            "grid_gap": null,
            "grid_row": null,
            "grid_template_areas": null,
            "grid_template_columns": null,
            "grid_template_rows": null,
            "height": null,
            "justify_content": null,
            "justify_items": null,
            "left": null,
            "margin": null,
            "max_height": null,
            "max_width": null,
            "min_height": null,
            "min_width": null,
            "object_fit": null,
            "object_position": null,
            "order": null,
            "overflow": null,
            "overflow_x": null,
            "overflow_y": null,
            "padding": null,
            "right": null,
            "top": null,
            "visibility": null,
            "width": null
          }
        },
        "fe10cb262c9f4a7d841b72b506e20b17": {
          "model_module": "@jupyter-widgets/controls",
          "model_name": "DescriptionStyleModel",
          "model_module_version": "1.5.0",
          "state": {
            "_model_module": "@jupyter-widgets/controls",
            "_model_module_version": "1.5.0",
            "_model_name": "DescriptionStyleModel",
            "_view_count": null,
            "_view_module": "@jupyter-widgets/base",
            "_view_module_version": "1.2.0",
            "_view_name": "StyleView",
            "description_width": ""
          }
        },
        "68d9f212e30c419dbbb5d67c5baed738": {
          "model_module": "@jupyter-widgets/base",
          "model_name": "LayoutModel",
          "model_module_version": "1.2.0",
          "state": {
            "_model_module": "@jupyter-widgets/base",
            "_model_module_version": "1.2.0",
            "_model_name": "LayoutModel",
            "_view_count": null,
            "_view_module": "@jupyter-widgets/base",
            "_view_module_version": "1.2.0",
            "_view_name": "LayoutView",
            "align_content": null,
            "align_items": null,
            "align_self": null,
            "border": null,
            "bottom": null,
            "display": null,
            "flex": null,
            "flex_flow": null,
            "grid_area": null,
            "grid_auto_columns": null,
            "grid_auto_flow": null,
            "grid_auto_rows": null,
            "grid_column": null,
            "grid_gap": null,
            "grid_row": null,
            "grid_template_areas": null,
            "grid_template_columns": null,
            "grid_template_rows": null,
            "height": null,
            "justify_content": null,
            "justify_items": null,
            "left": null,
            "margin": null,
            "max_height": null,
            "max_width": null,
            "min_height": null,
            "min_width": null,
            "object_fit": null,
            "object_position": null,
            "order": null,
            "overflow": null,
            "overflow_x": null,
            "overflow_y": null,
            "padding": null,
            "right": null,
            "top": null,
            "visibility": null,
            "width": null
          }
        },
        "de5115ea117647bf812a62830c7a0681": {
          "model_module": "@jupyter-widgets/controls",
          "model_name": "ProgressStyleModel",
          "model_module_version": "1.5.0",
          "state": {
            "_model_module": "@jupyter-widgets/controls",
            "_model_module_version": "1.5.0",
            "_model_name": "ProgressStyleModel",
            "_view_count": null,
            "_view_module": "@jupyter-widgets/base",
            "_view_module_version": "1.2.0",
            "_view_name": "StyleView",
            "bar_color": null,
            "description_width": ""
          }
        },
        "32523d20a12347c19aab332cf24cdeec": {
          "model_module": "@jupyter-widgets/base",
          "model_name": "LayoutModel",
          "model_module_version": "1.2.0",
          "state": {
            "_model_module": "@jupyter-widgets/base",
            "_model_module_version": "1.2.0",
            "_model_name": "LayoutModel",
            "_view_count": null,
            "_view_module": "@jupyter-widgets/base",
            "_view_module_version": "1.2.0",
            "_view_name": "LayoutView",
            "align_content": null,
            "align_items": null,
            "align_self": null,
            "border": null,
            "bottom": null,
            "display": null,
            "flex": null,
            "flex_flow": null,
            "grid_area": null,
            "grid_auto_columns": null,
            "grid_auto_flow": null,
            "grid_auto_rows": null,
            "grid_column": null,
            "grid_gap": null,
            "grid_row": null,
            "grid_template_areas": null,
            "grid_template_columns": null,
            "grid_template_rows": null,
            "height": null,
            "justify_content": null,
            "justify_items": null,
            "left": null,
            "margin": null,
            "max_height": null,
            "max_width": null,
            "min_height": null,
            "min_width": null,
            "object_fit": null,
            "object_position": null,
            "order": null,
            "overflow": null,
            "overflow_x": null,
            "overflow_y": null,
            "padding": null,
            "right": null,
            "top": null,
            "visibility": null,
            "width": null
          }
        },
        "e2160ae9ec2b4c6e8af05ab0d312c0d2": {
          "model_module": "@jupyter-widgets/controls",
          "model_name": "DescriptionStyleModel",
          "model_module_version": "1.5.0",
          "state": {
            "_model_module": "@jupyter-widgets/controls",
            "_model_module_version": "1.5.0",
            "_model_name": "DescriptionStyleModel",
            "_view_count": null,
            "_view_module": "@jupyter-widgets/base",
            "_view_module_version": "1.2.0",
            "_view_name": "StyleView",
            "description_width": ""
          }
        },
        "65ecb0fe91ab49f89b5d364edc8cb589": {
          "model_module": "@jupyter-widgets/controls",
          "model_name": "HBoxModel",
          "model_module_version": "1.5.0",
          "state": {
            "_dom_classes": [],
            "_model_module": "@jupyter-widgets/controls",
            "_model_module_version": "1.5.0",
            "_model_name": "HBoxModel",
            "_view_count": null,
            "_view_module": "@jupyter-widgets/controls",
            "_view_module_version": "1.5.0",
            "_view_name": "HBoxView",
            "box_style": "",
            "children": [
              "IPY_MODEL_aa3fec84bc694270a8bc90e5b09f76e3",
              "IPY_MODEL_1f449643af4a425d82e2f79ce38c09d2",
              "IPY_MODEL_22b2fa7af045486e867e0f6849aa3fb4"
            ],
            "layout": "IPY_MODEL_9603147c6ecb4411b7f624c6c9e05102"
          }
        },
        "aa3fec84bc694270a8bc90e5b09f76e3": {
          "model_module": "@jupyter-widgets/controls",
          "model_name": "HTMLModel",
          "model_module_version": "1.5.0",
          "state": {
            "_dom_classes": [],
            "_model_module": "@jupyter-widgets/controls",
            "_model_module_version": "1.5.0",
            "_model_name": "HTMLModel",
            "_view_count": null,
            "_view_module": "@jupyter-widgets/controls",
            "_view_module_version": "1.5.0",
            "_view_name": "HTMLView",
            "description": "",
            "description_tooltip": null,
            "layout": "IPY_MODEL_368afd3be6d64f1792126f8797f57917",
            "placeholder": "​",
            "style": "IPY_MODEL_64b503c480bb4da081a734d6c2a1962a",
            "value": "tokenizer_config.json: 100%"
          }
        },
        "1f449643af4a425d82e2f79ce38c09d2": {
          "model_module": "@jupyter-widgets/controls",
          "model_name": "FloatProgressModel",
          "model_module_version": "1.5.0",
          "state": {
            "_dom_classes": [],
            "_model_module": "@jupyter-widgets/controls",
            "_model_module_version": "1.5.0",
            "_model_name": "FloatProgressModel",
            "_view_count": null,
            "_view_module": "@jupyter-widgets/controls",
            "_view_module_version": "1.5.0",
            "_view_name": "ProgressView",
            "bar_style": "success",
            "description": "",
            "description_tooltip": null,
            "layout": "IPY_MODEL_461186724b464a9e81d5e645b3b482a9",
            "max": 48,
            "min": 0,
            "orientation": "horizontal",
            "style": "IPY_MODEL_a11dee0c16354fe782704a08179165de",
            "value": 48
          }
        },
        "22b2fa7af045486e867e0f6849aa3fb4": {
          "model_module": "@jupyter-widgets/controls",
          "model_name": "HTMLModel",
          "model_module_version": "1.5.0",
          "state": {
            "_dom_classes": [],
            "_model_module": "@jupyter-widgets/controls",
            "_model_module_version": "1.5.0",
            "_model_name": "HTMLModel",
            "_view_count": null,
            "_view_module": "@jupyter-widgets/controls",
            "_view_module_version": "1.5.0",
            "_view_name": "HTMLView",
            "description": "",
            "description_tooltip": null,
            "layout": "IPY_MODEL_6886a4be8ce14dcebf5918b87df54c39",
            "placeholder": "​",
            "style": "IPY_MODEL_e1cb6fb923df4fb9a9a1adcb3c1e083c",
            "value": " 48.0/48.0 [00:00&lt;00:00, 4.16kB/s]"
          }
        },
        "9603147c6ecb4411b7f624c6c9e05102": {
          "model_module": "@jupyter-widgets/base",
          "model_name": "LayoutModel",
          "model_module_version": "1.2.0",
          "state": {
            "_model_module": "@jupyter-widgets/base",
            "_model_module_version": "1.2.0",
            "_model_name": "LayoutModel",
            "_view_count": null,
            "_view_module": "@jupyter-widgets/base",
            "_view_module_version": "1.2.0",
            "_view_name": "LayoutView",
            "align_content": null,
            "align_items": null,
            "align_self": null,
            "border": null,
            "bottom": null,
            "display": null,
            "flex": null,
            "flex_flow": null,
            "grid_area": null,
            "grid_auto_columns": null,
            "grid_auto_flow": null,
            "grid_auto_rows": null,
            "grid_column": null,
            "grid_gap": null,
            "grid_row": null,
            "grid_template_areas": null,
            "grid_template_columns": null,
            "grid_template_rows": null,
            "height": null,
            "justify_content": null,
            "justify_items": null,
            "left": null,
            "margin": null,
            "max_height": null,
            "max_width": null,
            "min_height": null,
            "min_width": null,
            "object_fit": null,
            "object_position": null,
            "order": null,
            "overflow": null,
            "overflow_x": null,
            "overflow_y": null,
            "padding": null,
            "right": null,
            "top": null,
            "visibility": null,
            "width": null
          }
        },
        "368afd3be6d64f1792126f8797f57917": {
          "model_module": "@jupyter-widgets/base",
          "model_name": "LayoutModel",
          "model_module_version": "1.2.0",
          "state": {
            "_model_module": "@jupyter-widgets/base",
            "_model_module_version": "1.2.0",
            "_model_name": "LayoutModel",
            "_view_count": null,
            "_view_module": "@jupyter-widgets/base",
            "_view_module_version": "1.2.0",
            "_view_name": "LayoutView",
            "align_content": null,
            "align_items": null,
            "align_self": null,
            "border": null,
            "bottom": null,
            "display": null,
            "flex": null,
            "flex_flow": null,
            "grid_area": null,
            "grid_auto_columns": null,
            "grid_auto_flow": null,
            "grid_auto_rows": null,
            "grid_column": null,
            "grid_gap": null,
            "grid_row": null,
            "grid_template_areas": null,
            "grid_template_columns": null,
            "grid_template_rows": null,
            "height": null,
            "justify_content": null,
            "justify_items": null,
            "left": null,
            "margin": null,
            "max_height": null,
            "max_width": null,
            "min_height": null,
            "min_width": null,
            "object_fit": null,
            "object_position": null,
            "order": null,
            "overflow": null,
            "overflow_x": null,
            "overflow_y": null,
            "padding": null,
            "right": null,
            "top": null,
            "visibility": null,
            "width": null
          }
        },
        "64b503c480bb4da081a734d6c2a1962a": {
          "model_module": "@jupyter-widgets/controls",
          "model_name": "DescriptionStyleModel",
          "model_module_version": "1.5.0",
          "state": {
            "_model_module": "@jupyter-widgets/controls",
            "_model_module_version": "1.5.0",
            "_model_name": "DescriptionStyleModel",
            "_view_count": null,
            "_view_module": "@jupyter-widgets/base",
            "_view_module_version": "1.2.0",
            "_view_name": "StyleView",
            "description_width": ""
          }
        },
        "461186724b464a9e81d5e645b3b482a9": {
          "model_module": "@jupyter-widgets/base",
          "model_name": "LayoutModel",
          "model_module_version": "1.2.0",
          "state": {
            "_model_module": "@jupyter-widgets/base",
            "_model_module_version": "1.2.0",
            "_model_name": "LayoutModel",
            "_view_count": null,
            "_view_module": "@jupyter-widgets/base",
            "_view_module_version": "1.2.0",
            "_view_name": "LayoutView",
            "align_content": null,
            "align_items": null,
            "align_self": null,
            "border": null,
            "bottom": null,
            "display": null,
            "flex": null,
            "flex_flow": null,
            "grid_area": null,
            "grid_auto_columns": null,
            "grid_auto_flow": null,
            "grid_auto_rows": null,
            "grid_column": null,
            "grid_gap": null,
            "grid_row": null,
            "grid_template_areas": null,
            "grid_template_columns": null,
            "grid_template_rows": null,
            "height": null,
            "justify_content": null,
            "justify_items": null,
            "left": null,
            "margin": null,
            "max_height": null,
            "max_width": null,
            "min_height": null,
            "min_width": null,
            "object_fit": null,
            "object_position": null,
            "order": null,
            "overflow": null,
            "overflow_x": null,
            "overflow_y": null,
            "padding": null,
            "right": null,
            "top": null,
            "visibility": null,
            "width": null
          }
        },
        "a11dee0c16354fe782704a08179165de": {
          "model_module": "@jupyter-widgets/controls",
          "model_name": "ProgressStyleModel",
          "model_module_version": "1.5.0",
          "state": {
            "_model_module": "@jupyter-widgets/controls",
            "_model_module_version": "1.5.0",
            "_model_name": "ProgressStyleModel",
            "_view_count": null,
            "_view_module": "@jupyter-widgets/base",
            "_view_module_version": "1.2.0",
            "_view_name": "StyleView",
            "bar_color": null,
            "description_width": ""
          }
        },
        "6886a4be8ce14dcebf5918b87df54c39": {
          "model_module": "@jupyter-widgets/base",
          "model_name": "LayoutModel",
          "model_module_version": "1.2.0",
          "state": {
            "_model_module": "@jupyter-widgets/base",
            "_model_module_version": "1.2.0",
            "_model_name": "LayoutModel",
            "_view_count": null,
            "_view_module": "@jupyter-widgets/base",
            "_view_module_version": "1.2.0",
            "_view_name": "LayoutView",
            "align_content": null,
            "align_items": null,
            "align_self": null,
            "border": null,
            "bottom": null,
            "display": null,
            "flex": null,
            "flex_flow": null,
            "grid_area": null,
            "grid_auto_columns": null,
            "grid_auto_flow": null,
            "grid_auto_rows": null,
            "grid_column": null,
            "grid_gap": null,
            "grid_row": null,
            "grid_template_areas": null,
            "grid_template_columns": null,
            "grid_template_rows": null,
            "height": null,
            "justify_content": null,
            "justify_items": null,
            "left": null,
            "margin": null,
            "max_height": null,
            "max_width": null,
            "min_height": null,
            "min_width": null,
            "object_fit": null,
            "object_position": null,
            "order": null,
            "overflow": null,
            "overflow_x": null,
            "overflow_y": null,
            "padding": null,
            "right": null,
            "top": null,
            "visibility": null,
            "width": null
          }
        },
        "e1cb6fb923df4fb9a9a1adcb3c1e083c": {
          "model_module": "@jupyter-widgets/controls",
          "model_name": "DescriptionStyleModel",
          "model_module_version": "1.5.0",
          "state": {
            "_model_module": "@jupyter-widgets/controls",
            "_model_module_version": "1.5.0",
            "_model_name": "DescriptionStyleModel",
            "_view_count": null,
            "_view_module": "@jupyter-widgets/base",
            "_view_module_version": "1.2.0",
            "_view_name": "StyleView",
            "description_width": ""
          }
        },
        "a231d0398629464caa48dab9698cdf98": {
          "model_module": "@jupyter-widgets/controls",
          "model_name": "HBoxModel",
          "model_module_version": "1.5.0",
          "state": {
            "_dom_classes": [],
            "_model_module": "@jupyter-widgets/controls",
            "_model_module_version": "1.5.0",
            "_model_name": "HBoxModel",
            "_view_count": null,
            "_view_module": "@jupyter-widgets/controls",
            "_view_module_version": "1.5.0",
            "_view_name": "HBoxView",
            "box_style": "",
            "children": [
              "IPY_MODEL_defaea5bb782499abf9c14e93d202830",
              "IPY_MODEL_7ddb41ba3a864f4e83384c86db92e182",
              "IPY_MODEL_588913639eb843ac9225cfc30b11bb5e"
            ],
            "layout": "IPY_MODEL_6e511d2894a64af0882ed40ba43d29f3"
          }
        },
        "defaea5bb782499abf9c14e93d202830": {
          "model_module": "@jupyter-widgets/controls",
          "model_name": "HTMLModel",
          "model_module_version": "1.5.0",
          "state": {
            "_dom_classes": [],
            "_model_module": "@jupyter-widgets/controls",
            "_model_module_version": "1.5.0",
            "_model_name": "HTMLModel",
            "_view_count": null,
            "_view_module": "@jupyter-widgets/controls",
            "_view_module_version": "1.5.0",
            "_view_name": "HTMLView",
            "description": "",
            "description_tooltip": null,
            "layout": "IPY_MODEL_e2641df2d74741cda56e07c1eed47e2a",
            "placeholder": "​",
            "style": "IPY_MODEL_0afccb4ae07846c290cbaf595d17e226",
            "value": "vocab.txt: "
          }
        },
        "7ddb41ba3a864f4e83384c86db92e182": {
          "model_module": "@jupyter-widgets/controls",
          "model_name": "FloatProgressModel",
          "model_module_version": "1.5.0",
          "state": {
            "_dom_classes": [],
            "_model_module": "@jupyter-widgets/controls",
            "_model_module_version": "1.5.0",
            "_model_name": "FloatProgressModel",
            "_view_count": null,
            "_view_module": "@jupyter-widgets/controls",
            "_view_module_version": "1.5.0",
            "_view_name": "ProgressView",
            "bar_style": "success",
            "description": "",
            "description_tooltip": null,
            "layout": "IPY_MODEL_0d01f53b861e491e90022734615095bd",
            "max": 1,
            "min": 0,
            "orientation": "horizontal",
            "style": "IPY_MODEL_7114c4bb75ff47458327d38544077d65",
            "value": 1
          }
        },
        "588913639eb843ac9225cfc30b11bb5e": {
          "model_module": "@jupyter-widgets/controls",
          "model_name": "HTMLModel",
          "model_module_version": "1.5.0",
          "state": {
            "_dom_classes": [],
            "_model_module": "@jupyter-widgets/controls",
            "_model_module_version": "1.5.0",
            "_model_name": "HTMLModel",
            "_view_count": null,
            "_view_module": "@jupyter-widgets/controls",
            "_view_module_version": "1.5.0",
            "_view_name": "HTMLView",
            "description": "",
            "description_tooltip": null,
            "layout": "IPY_MODEL_7ee68c3c8db04a1f9746930898ab3b43",
            "placeholder": "​",
            "style": "IPY_MODEL_e644f13989b640f5a0e0ba603bfaec20",
            "value": " 232k/? [00:00&lt;00:00, 13.9MB/s]"
          }
        },
        "6e511d2894a64af0882ed40ba43d29f3": {
          "model_module": "@jupyter-widgets/base",
          "model_name": "LayoutModel",
          "model_module_version": "1.2.0",
          "state": {
            "_model_module": "@jupyter-widgets/base",
            "_model_module_version": "1.2.0",
            "_model_name": "LayoutModel",
            "_view_count": null,
            "_view_module": "@jupyter-widgets/base",
            "_view_module_version": "1.2.0",
            "_view_name": "LayoutView",
            "align_content": null,
            "align_items": null,
            "align_self": null,
            "border": null,
            "bottom": null,
            "display": null,
            "flex": null,
            "flex_flow": null,
            "grid_area": null,
            "grid_auto_columns": null,
            "grid_auto_flow": null,
            "grid_auto_rows": null,
            "grid_column": null,
            "grid_gap": null,
            "grid_row": null,
            "grid_template_areas": null,
            "grid_template_columns": null,
            "grid_template_rows": null,
            "height": null,
            "justify_content": null,
            "justify_items": null,
            "left": null,
            "margin": null,
            "max_height": null,
            "max_width": null,
            "min_height": null,
            "min_width": null,
            "object_fit": null,
            "object_position": null,
            "order": null,
            "overflow": null,
            "overflow_x": null,
            "overflow_y": null,
            "padding": null,
            "right": null,
            "top": null,
            "visibility": null,
            "width": null
          }
        },
        "e2641df2d74741cda56e07c1eed47e2a": {
          "model_module": "@jupyter-widgets/base",
          "model_name": "LayoutModel",
          "model_module_version": "1.2.0",
          "state": {
            "_model_module": "@jupyter-widgets/base",
            "_model_module_version": "1.2.0",
            "_model_name": "LayoutModel",
            "_view_count": null,
            "_view_module": "@jupyter-widgets/base",
            "_view_module_version": "1.2.0",
            "_view_name": "LayoutView",
            "align_content": null,
            "align_items": null,
            "align_self": null,
            "border": null,
            "bottom": null,
            "display": null,
            "flex": null,
            "flex_flow": null,
            "grid_area": null,
            "grid_auto_columns": null,
            "grid_auto_flow": null,
            "grid_auto_rows": null,
            "grid_column": null,
            "grid_gap": null,
            "grid_row": null,
            "grid_template_areas": null,
            "grid_template_columns": null,
            "grid_template_rows": null,
            "height": null,
            "justify_content": null,
            "justify_items": null,
            "left": null,
            "margin": null,
            "max_height": null,
            "max_width": null,
            "min_height": null,
            "min_width": null,
            "object_fit": null,
            "object_position": null,
            "order": null,
            "overflow": null,
            "overflow_x": null,
            "overflow_y": null,
            "padding": null,
            "right": null,
            "top": null,
            "visibility": null,
            "width": null
          }
        },
        "0afccb4ae07846c290cbaf595d17e226": {
          "model_module": "@jupyter-widgets/controls",
          "model_name": "DescriptionStyleModel",
          "model_module_version": "1.5.0",
          "state": {
            "_model_module": "@jupyter-widgets/controls",
            "_model_module_version": "1.5.0",
            "_model_name": "DescriptionStyleModel",
            "_view_count": null,
            "_view_module": "@jupyter-widgets/base",
            "_view_module_version": "1.2.0",
            "_view_name": "StyleView",
            "description_width": ""
          }
        },
        "0d01f53b861e491e90022734615095bd": {
          "model_module": "@jupyter-widgets/base",
          "model_name": "LayoutModel",
          "model_module_version": "1.2.0",
          "state": {
            "_model_module": "@jupyter-widgets/base",
            "_model_module_version": "1.2.0",
            "_model_name": "LayoutModel",
            "_view_count": null,
            "_view_module": "@jupyter-widgets/base",
            "_view_module_version": "1.2.0",
            "_view_name": "LayoutView",
            "align_content": null,
            "align_items": null,
            "align_self": null,
            "border": null,
            "bottom": null,
            "display": null,
            "flex": null,
            "flex_flow": null,
            "grid_area": null,
            "grid_auto_columns": null,
            "grid_auto_flow": null,
            "grid_auto_rows": null,
            "grid_column": null,
            "grid_gap": null,
            "grid_row": null,
            "grid_template_areas": null,
            "grid_template_columns": null,
            "grid_template_rows": null,
            "height": null,
            "justify_content": null,
            "justify_items": null,
            "left": null,
            "margin": null,
            "max_height": null,
            "max_width": null,
            "min_height": null,
            "min_width": null,
            "object_fit": null,
            "object_position": null,
            "order": null,
            "overflow": null,
            "overflow_x": null,
            "overflow_y": null,
            "padding": null,
            "right": null,
            "top": null,
            "visibility": null,
            "width": "20px"
          }
        },
        "7114c4bb75ff47458327d38544077d65": {
          "model_module": "@jupyter-widgets/controls",
          "model_name": "ProgressStyleModel",
          "model_module_version": "1.5.0",
          "state": {
            "_model_module": "@jupyter-widgets/controls",
            "_model_module_version": "1.5.0",
            "_model_name": "ProgressStyleModel",
            "_view_count": null,
            "_view_module": "@jupyter-widgets/base",
            "_view_module_version": "1.2.0",
            "_view_name": "StyleView",
            "bar_color": null,
            "description_width": ""
          }
        },
        "7ee68c3c8db04a1f9746930898ab3b43": {
          "model_module": "@jupyter-widgets/base",
          "model_name": "LayoutModel",
          "model_module_version": "1.2.0",
          "state": {
            "_model_module": "@jupyter-widgets/base",
            "_model_module_version": "1.2.0",
            "_model_name": "LayoutModel",
            "_view_count": null,
            "_view_module": "@jupyter-widgets/base",
            "_view_module_version": "1.2.0",
            "_view_name": "LayoutView",
            "align_content": null,
            "align_items": null,
            "align_self": null,
            "border": null,
            "bottom": null,
            "display": null,
            "flex": null,
            "flex_flow": null,
            "grid_area": null,
            "grid_auto_columns": null,
            "grid_auto_flow": null,
            "grid_auto_rows": null,
            "grid_column": null,
            "grid_gap": null,
            "grid_row": null,
            "grid_template_areas": null,
            "grid_template_columns": null,
            "grid_template_rows": null,
            "height": null,
            "justify_content": null,
            "justify_items": null,
            "left": null,
            "margin": null,
            "max_height": null,
            "max_width": null,
            "min_height": null,
            "min_width": null,
            "object_fit": null,
            "object_position": null,
            "order": null,
            "overflow": null,
            "overflow_x": null,
            "overflow_y": null,
            "padding": null,
            "right": null,
            "top": null,
            "visibility": null,
            "width": null
          }
        },
        "e644f13989b640f5a0e0ba603bfaec20": {
          "model_module": "@jupyter-widgets/controls",
          "model_name": "DescriptionStyleModel",
          "model_module_version": "1.5.0",
          "state": {
            "_model_module": "@jupyter-widgets/controls",
            "_model_module_version": "1.5.0",
            "_model_name": "DescriptionStyleModel",
            "_view_count": null,
            "_view_module": "@jupyter-widgets/base",
            "_view_module_version": "1.2.0",
            "_view_name": "StyleView",
            "description_width": ""
          }
        }
      }
    }
  },
  "cells": [
    {
      "cell_type": "markdown",
      "metadata": {
        "id": "view-in-github",
        "colab_type": "text"
      },
      "source": [
        "<a href=\"https://colab.research.google.com/github/swaraj-coder/CartPlusX/blob/main/Untitled0.ipynb\" target=\"_parent\"><img src=\"https://colab.research.google.com/assets/colab-badge.svg\" alt=\"Open In Colab\"/></a>"
      ]
    },
    {
      "cell_type": "code",
      "source": [
        "!pip install transformers\n"
      ],
      "metadata": {
        "colab": {
          "base_uri": "https://localhost:8080/"
        },
        "id": "Dpxwm7DY5T47",
        "outputId": "62232451-f8d9-45d3-dec0-c3d6d3ce004b"
      },
      "execution_count": 68,
      "outputs": [
        {
          "output_type": "stream",
          "name": "stdout",
          "text": [
            "Requirement already satisfied: transformers in /usr/local/lib/python3.12/dist-packages (4.56.1)\n",
            "Requirement already satisfied: filelock in /usr/local/lib/python3.12/dist-packages (from transformers) (3.19.1)\n",
            "Requirement already satisfied: huggingface-hub<1.0,>=0.34.0 in /usr/local/lib/python3.12/dist-packages (from transformers) (0.34.4)\n",
            "Requirement already satisfied: numpy>=1.17 in /usr/local/lib/python3.12/dist-packages (from transformers) (2.0.2)\n",
            "Requirement already satisfied: packaging>=20.0 in /usr/local/lib/python3.12/dist-packages (from transformers) (25.0)\n",
            "Requirement already satisfied: pyyaml>=5.1 in /usr/local/lib/python3.12/dist-packages (from transformers) (6.0.2)\n",
            "Requirement already satisfied: regex!=2019.12.17 in /usr/local/lib/python3.12/dist-packages (from transformers) (2024.11.6)\n",
            "Requirement already satisfied: requests in /usr/local/lib/python3.12/dist-packages (from transformers) (2.32.4)\n",
            "Requirement already satisfied: tokenizers<=0.23.0,>=0.22.0 in /usr/local/lib/python3.12/dist-packages (from transformers) (0.22.0)\n",
            "Requirement already satisfied: safetensors>=0.4.3 in /usr/local/lib/python3.12/dist-packages (from transformers) (0.6.2)\n",
            "Requirement already satisfied: tqdm>=4.27 in /usr/local/lib/python3.12/dist-packages (from transformers) (4.67.1)\n",
            "Requirement already satisfied: fsspec>=2023.5.0 in /usr/local/lib/python3.12/dist-packages (from huggingface-hub<1.0,>=0.34.0->transformers) (2025.3.0)\n",
            "Requirement already satisfied: typing-extensions>=3.7.4.3 in /usr/local/lib/python3.12/dist-packages (from huggingface-hub<1.0,>=0.34.0->transformers) (4.15.0)\n",
            "Requirement already satisfied: hf-xet<2.0.0,>=1.1.3 in /usr/local/lib/python3.12/dist-packages (from huggingface-hub<1.0,>=0.34.0->transformers) (1.1.9)\n",
            "Requirement already satisfied: charset_normalizer<4,>=2 in /usr/local/lib/python3.12/dist-packages (from requests->transformers) (3.4.3)\n",
            "Requirement already satisfied: idna<4,>=2.5 in /usr/local/lib/python3.12/dist-packages (from requests->transformers) (3.10)\n",
            "Requirement already satisfied: urllib3<3,>=1.21.1 in /usr/local/lib/python3.12/dist-packages (from requests->transformers) (2.5.0)\n",
            "Requirement already satisfied: certifi>=2017.4.17 in /usr/local/lib/python3.12/dist-packages (from requests->transformers) (2025.8.3)\n"
          ]
        }
      ]
    },
    {
      "cell_type": "code",
      "execution_count": null,
      "metadata": {
        "id": "06eqFdCExfaN"
      },
      "outputs": [],
      "source": [
        "# Colab: install only what's needed. This may take ~30–60s.\n",
        "!pip install -q yt-dlp ffmpeg-python openai-whisper librosa soundfile transformers scikit-learn\n"
      ]
    },
    {
      "cell_type": "code",
      "source": [
        "!pip install transformers\n"
      ],
      "metadata": {
        "colab": {
          "base_uri": "https://localhost:8080/"
        },
        "id": "5WUm7X0o5IYa",
        "outputId": "6ec8ede9-afb6-4f49-94c7-159ab1fc2051"
      },
      "execution_count": 67,
      "outputs": [
        {
          "output_type": "stream",
          "name": "stdout",
          "text": [
            "Requirement already satisfied: transformers in /usr/local/lib/python3.12/dist-packages (4.56.1)\n",
            "Requirement already satisfied: filelock in /usr/local/lib/python3.12/dist-packages (from transformers) (3.19.1)\n",
            "Requirement already satisfied: huggingface-hub<1.0,>=0.34.0 in /usr/local/lib/python3.12/dist-packages (from transformers) (0.34.4)\n",
            "Requirement already satisfied: numpy>=1.17 in /usr/local/lib/python3.12/dist-packages (from transformers) (2.0.2)\n",
            "Requirement already satisfied: packaging>=20.0 in /usr/local/lib/python3.12/dist-packages (from transformers) (25.0)\n",
            "Requirement already satisfied: pyyaml>=5.1 in /usr/local/lib/python3.12/dist-packages (from transformers) (6.0.2)\n",
            "Requirement already satisfied: regex!=2019.12.17 in /usr/local/lib/python3.12/dist-packages (from transformers) (2024.11.6)\n",
            "Requirement already satisfied: requests in /usr/local/lib/python3.12/dist-packages (from transformers) (2.32.4)\n",
            "Requirement already satisfied: tokenizers<=0.23.0,>=0.22.0 in /usr/local/lib/python3.12/dist-packages (from transformers) (0.22.0)\n",
            "Requirement already satisfied: safetensors>=0.4.3 in /usr/local/lib/python3.12/dist-packages (from transformers) (0.6.2)\n",
            "Requirement already satisfied: tqdm>=4.27 in /usr/local/lib/python3.12/dist-packages (from transformers) (4.67.1)\n",
            "Requirement already satisfied: fsspec>=2023.5.0 in /usr/local/lib/python3.12/dist-packages (from huggingface-hub<1.0,>=0.34.0->transformers) (2025.3.0)\n",
            "Requirement already satisfied: typing-extensions>=3.7.4.3 in /usr/local/lib/python3.12/dist-packages (from huggingface-hub<1.0,>=0.34.0->transformers) (4.15.0)\n",
            "Requirement already satisfied: hf-xet<2.0.0,>=1.1.3 in /usr/local/lib/python3.12/dist-packages (from huggingface-hub<1.0,>=0.34.0->transformers) (1.1.9)\n",
            "Requirement already satisfied: charset_normalizer<4,>=2 in /usr/local/lib/python3.12/dist-packages (from requests->transformers) (3.4.3)\n",
            "Requirement already satisfied: idna<4,>=2.5 in /usr/local/lib/python3.12/dist-packages (from requests->transformers) (3.10)\n",
            "Requirement already satisfied: urllib3<3,>=1.21.1 in /usr/local/lib/python3.12/dist-packages (from requests->transformers) (2.5.0)\n",
            "Requirement already satisfied: certifi>=2017.4.17 in /usr/local/lib/python3.12/dist-packages (from requests->transformers) (2025.8.3)\n"
          ]
        }
      ]
    },
    {
      "cell_type": "code",
      "source": [
        "from transformers import pipeline\n",
        "\n",
        "# Load sentiment analysis pipeline (fast, lightweight)\n",
        "sentiment_analyzer = pipeline(\"sentiment-analysis\")\n",
        "\n",
        "# Use transcript preview (first 500 chars to keep it fast)\n",
        "text_for_sentiment = transcript[:500]\n",
        "\n",
        "sentiment_result = sentiment_analyzer(text_for_sentiment)[0]\n",
        "overall_sentiment = sentiment_result['label']  # \"POSITIVE\" / \"NEGATIVE\"\n",
        "\n",
        "print(\"Detected Sentiment:\", overall_sentiment)\n"
      ],
      "metadata": {
        "colab": {
          "base_uri": "https://localhost:8080/",
          "height": 338,
          "referenced_widgets": [
            "11801d5aa86849ef950474ab06e47bd7",
            "c4f8b6e573114876b5b3ff3fb638c7ab",
            "b79b26fff281461893b34f4c22125996",
            "bbdc4493861544ac9095a94cd8b8c72c",
            "7f1cc2c6977f4c1a813ab98fe20cd67c",
            "b9fb9f786bbb47ffa94e1a43c1ed710a",
            "510aa901bd904f03b571cd76c263ea17",
            "30d323e22b7f48c8b5a658899b86c84c",
            "89576c8c2392410d9902417e03f627ca",
            "126cbe66671f4bf5a1feaee0f1362f42",
            "6e4f969891c34b84ad01b6339cd144f4",
            "8048a311d6d84ee2a0730ae2fd7396e7",
            "54f6b5ca445340489c5756a801710acf",
            "f9ab8ed79fb241b9a6a31d549442ea35",
            "dcd148aae74847ef86a0fb5c5eda8ed4",
            "30ade819824641d48b52c2222cb2ce35",
            "83d62c761d88449fbab19c3fa709fdc0",
            "fe10cb262c9f4a7d841b72b506e20b17",
            "68d9f212e30c419dbbb5d67c5baed738",
            "de5115ea117647bf812a62830c7a0681",
            "32523d20a12347c19aab332cf24cdeec",
            "e2160ae9ec2b4c6e8af05ab0d312c0d2",
            "65ecb0fe91ab49f89b5d364edc8cb589",
            "aa3fec84bc694270a8bc90e5b09f76e3",
            "1f449643af4a425d82e2f79ce38c09d2",
            "22b2fa7af045486e867e0f6849aa3fb4",
            "9603147c6ecb4411b7f624c6c9e05102",
            "368afd3be6d64f1792126f8797f57917",
            "64b503c480bb4da081a734d6c2a1962a",
            "461186724b464a9e81d5e645b3b482a9",
            "a11dee0c16354fe782704a08179165de",
            "6886a4be8ce14dcebf5918b87df54c39",
            "e1cb6fb923df4fb9a9a1adcb3c1e083c",
            "a231d0398629464caa48dab9698cdf98",
            "defaea5bb782499abf9c14e93d202830",
            "7ddb41ba3a864f4e83384c86db92e182",
            "588913639eb843ac9225cfc30b11bb5e",
            "6e511d2894a64af0882ed40ba43d29f3",
            "e2641df2d74741cda56e07c1eed47e2a",
            "0afccb4ae07846c290cbaf595d17e226",
            "0d01f53b861e491e90022734615095bd",
            "7114c4bb75ff47458327d38544077d65",
            "7ee68c3c8db04a1f9746930898ab3b43",
            "e644f13989b640f5a0e0ba603bfaec20"
          ]
        },
        "id": "jco56eA95dag",
        "outputId": "d2fcb063-9550-4bdc-fbb1-e4d9dd7f4618"
      },
      "execution_count": 69,
      "outputs": [
        {
          "output_type": "stream",
          "name": "stderr",
          "text": [
            "No model was supplied, defaulted to distilbert/distilbert-base-uncased-finetuned-sst-2-english and revision 714eb0f (https://huggingface.co/distilbert/distilbert-base-uncased-finetuned-sst-2-english).\n",
            "Using a pipeline without specifying a model name and revision in production is not recommended.\n",
            "/usr/local/lib/python3.12/dist-packages/huggingface_hub/utils/_auth.py:94: UserWarning: \n",
            "The secret `HF_TOKEN` does not exist in your Colab secrets.\n",
            "To authenticate with the Hugging Face Hub, create a token in your settings tab (https://huggingface.co/settings/tokens), set it as secret in your Google Colab and restart your session.\n",
            "You will be able to reuse this secret in all of your notebooks.\n",
            "Please note that authentication is recommended but still optional to access public models or datasets.\n",
            "  warnings.warn(\n"
          ]
        },
        {
          "output_type": "display_data",
          "data": {
            "text/plain": [
              "config.json:   0%|          | 0.00/629 [00:00<?, ?B/s]"
            ],
            "application/vnd.jupyter.widget-view+json": {
              "version_major": 2,
              "version_minor": 0,
              "model_id": "11801d5aa86849ef950474ab06e47bd7"
            }
          },
          "metadata": {}
        },
        {
          "output_type": "display_data",
          "data": {
            "text/plain": [
              "model.safetensors:   0%|          | 0.00/268M [00:00<?, ?B/s]"
            ],
            "application/vnd.jupyter.widget-view+json": {
              "version_major": 2,
              "version_minor": 0,
              "model_id": "8048a311d6d84ee2a0730ae2fd7396e7"
            }
          },
          "metadata": {}
        },
        {
          "output_type": "display_data",
          "data": {
            "text/plain": [
              "tokenizer_config.json:   0%|          | 0.00/48.0 [00:00<?, ?B/s]"
            ],
            "application/vnd.jupyter.widget-view+json": {
              "version_major": 2,
              "version_minor": 0,
              "model_id": "65ecb0fe91ab49f89b5d364edc8cb589"
            }
          },
          "metadata": {}
        },
        {
          "output_type": "display_data",
          "data": {
            "text/plain": [
              "vocab.txt: 0.00B [00:00, ?B/s]"
            ],
            "application/vnd.jupyter.widget-view+json": {
              "version_major": 2,
              "version_minor": 0,
              "model_id": "a231d0398629464caa48dab9698cdf98"
            }
          },
          "metadata": {}
        },
        {
          "output_type": "stream",
          "name": "stderr",
          "text": [
            "Device set to use cpu\n"
          ]
        },
        {
          "output_type": "stream",
          "name": "stdout",
          "text": [
            "Detected Sentiment: POSITIVE\n"
          ]
        }
      ]
    },
    {
      "cell_type": "code",
      "source": [
        "print(\"\\n--- Final Results ---\")\n",
        "print(\"Talk-time ratio:\", results['talk_time_speech_pct'])\n",
        "print(\"Number of questions:\", results['num_questions'])\n",
        "print(\"Longest monologue (s):\", results['longest_monologue_s'])\n",
        "print(\"Sentiment:\", results['sentiment'])\n",
        "print(\"Insight:\", results['insight'])\n",
        "print(\"Roles (heuristic):\", results['roles_heuristic'])\n"
      ],
      "metadata": {
        "colab": {
          "base_uri": "https://localhost:8080/"
        },
        "id": "wnn6_fpW6K-Q",
        "outputId": "56c29fc7-824e-4fb7-c11b-928b4c76f855"
      },
      "execution_count": 71,
      "outputs": [
        {
          "output_type": "stream",
          "name": "stdout",
          "text": [
            "\n",
            "--- Final Results ---\n",
            "Talk-time ratio: {'0': 99.70794392523365, '1': 0.2920560747663552}\n",
            "Number of questions: 0\n",
            "Longest monologue (s): 47.775999999999996\n",
            "Sentiment: Sentiment not calculated\n",
            "Insight: Sales rep dominates the call — recommend more active listening and ask the customer about needs rather than long monologues.\n",
            "Roles (heuristic): {'0': 'Sales Rep (heuristic)', '1': 'Customer (heuristic)'}\n"
          ]
        }
      ]
    },
    {
      "cell_type": "code",
      "source": [
        "# Download and convert to WAV\n",
        "!yt-dlp -x --audio-format wav \"https://www.youtube.com/watch?v=4ostqJD3Psc\" -o \"call_audio.%(ext)s\"\n",
        "\n",
        "# Convert to mono 16kHz and keep ONLY the first 120 seconds (trim to accelerate processing)\n",
        "!ffmpeg -y -i call_audio.wav -ac 1 -ar 16000 -t 120 call_16k_mono_120s.wav\n"
      ],
      "metadata": {
        "colab": {
          "base_uri": "https://localhost:8080/"
        },
        "id": "lN0HEvBYyDI8",
        "outputId": "d81a171a-7446-4c76-d209-c3f239df42a2"
      },
      "execution_count": null,
      "outputs": [
        {
          "output_type": "stream",
          "name": "stdout",
          "text": [
            "[youtube] Extracting URL: https://www.youtube.com/watch?v=4ostqJD3Psc\n",
            "[youtube] 4ostqJD3Psc: Downloading webpage\n",
            "[youtube] 4ostqJD3Psc: Downloading tv simply player API JSON\n",
            "[youtube] 4ostqJD3Psc: Downloading tv client config\n",
            "[youtube] 4ostqJD3Psc: Downloading tv player API JSON\n",
            "[info] 4ostqJD3Psc: Downloading 1 format(s): 251\n",
            "[download] call_audio.wav has already been downloaded\n",
            "[ExtractAudio] Destination: call_audio.wav\n",
            "Deleting original file call_audio.orig.wav (pass -k to keep)\n",
            "ffmpeg version 4.4.2-0ubuntu0.22.04.1 Copyright (c) 2000-2021 the FFmpeg developers\n",
            "  built with gcc 11 (Ubuntu 11.2.0-19ubuntu1)\n",
            "  configuration: --prefix=/usr --extra-version=0ubuntu0.22.04.1 --toolchain=hardened --libdir=/usr/lib/x86_64-linux-gnu --incdir=/usr/include/x86_64-linux-gnu --arch=amd64 --enable-gpl --disable-stripping --enable-gnutls --enable-ladspa --enable-libaom --enable-libass --enable-libbluray --enable-libbs2b --enable-libcaca --enable-libcdio --enable-libcodec2 --enable-libdav1d --enable-libflite --enable-libfontconfig --enable-libfreetype --enable-libfribidi --enable-libgme --enable-libgsm --enable-libjack --enable-libmp3lame --enable-libmysofa --enable-libopenjpeg --enable-libopenmpt --enable-libopus --enable-libpulse --enable-librabbitmq --enable-librubberband --enable-libshine --enable-libsnappy --enable-libsoxr --enable-libspeex --enable-libsrt --enable-libssh --enable-libtheora --enable-libtwolame --enable-libvidstab --enable-libvorbis --enable-libvpx --enable-libwebp --enable-libx265 --enable-libxml2 --enable-libxvid --enable-libzimg --enable-libzmq --enable-libzvbi --enable-lv2 --enable-omx --enable-openal --enable-opencl --enable-opengl --enable-sdl2 --enable-pocketsphinx --enable-librsvg --enable-libmfx --enable-libdc1394 --enable-libdrm --enable-libiec61883 --enable-chromaprint --enable-frei0r --enable-libx264 --enable-shared\n",
            "  libavutil      56. 70.100 / 56. 70.100\n",
            "  libavcodec     58.134.100 / 58.134.100\n",
            "  libavformat    58. 76.100 / 58. 76.100\n",
            "  libavdevice    58. 13.100 / 58. 13.100\n",
            "  libavfilter     7.110.100 /  7.110.100\n",
            "  libswscale      5.  9.100 /  5.  9.100\n",
            "  libswresample   3.  9.100 /  3.  9.100\n",
            "  libpostproc    55.  9.100 / 55.  9.100\n",
            "\u001b[0;33mGuessed Channel Layout for Input Stream #0.0 : stereo\n",
            "\u001b[0mInput #0, wav, from 'call_audio.wav':\n",
            "  Metadata:\n",
            "    encoder         : Lavf58.76.100\n",
            "  Duration: 00:02:02.69, bitrate: 1536 kb/s\n",
            "  Stream #0:0: Audio: pcm_s16le ([1][0][0][0] / 0x0001), 48000 Hz, stereo, s16, 1536 kb/s\n",
            "Stream mapping:\n",
            "  Stream #0:0 -> #0:0 (pcm_s16le (native) -> pcm_s16le (native))\n",
            "Press [q] to stop, [?] for help\n",
            "Output #0, wav, to 'call_16k_mono_120s.wav':\n",
            "  Metadata:\n",
            "    ISFT            : Lavf58.76.100\n",
            "  Stream #0:0: Audio: pcm_s16le ([1][0][0][0] / 0x0001), 16000 Hz, mono, s16, 256 kb/s\n",
            "    Metadata:\n",
            "      encoder         : Lavc58.134.100 pcm_s16le\n",
            "size=    3750kB time=00:01:59.99 bitrate= 256.0kbits/s speed= 632x    \n",
            "video:0kB audio:3750kB subtitle:0kB other streams:0kB global headers:0kB muxing overhead: 0.002031%\n"
          ]
        }
      ]
    },
    {
      "cell_type": "code",
      "source": [
        "import librosa\n",
        "import numpy as np\n",
        "import os, time\n",
        "\n",
        "audio_path = \"call_16k_mono_120s.wav\"\n",
        "\n",
        "y, sr = librosa.load(audio_path, sr=16000)   # load at 16k\n",
        "call_duration = len(y) / sr\n",
        "print(f\"Loaded {audio_path} — duration: {call_duration:.1f}s, samplerate: {sr}\")\n"
      ],
      "metadata": {
        "colab": {
          "base_uri": "https://localhost:8080/"
        },
        "id": "vHLT-JrFyjZR",
        "outputId": "c8c99b59-9367-484f-8fcf-8c75ba011ca1"
      },
      "execution_count": null,
      "outputs": [
        {
          "output_type": "stream",
          "name": "stdout",
          "text": [
            "Loaded call_16k_mono_120s.wav — duration: 120.0s, samplerate: 16000\n"
          ]
        }
      ]
    },
    {
      "cell_type": "code",
      "source": [
        "# Split audio into non-silent intervals (works fast and is robust for noisy audio)\n",
        "intervals = librosa.effects.split(y, top_db=35, frame_length=2048, hop_length=512)\n",
        "print(f\"Detected {len(intervals)} speech segments (librosa.effects.split).\")\n",
        "# Convert to seconds and collect\n",
        "segments = []\n",
        "for (start, end) in intervals:\n",
        "    segments.append({\n",
        "        \"start_sec\": start / sr,\n",
        "        \"end_sec\": end / sr,\n",
        "        \"duration\": (end - start) / sr,\n",
        "        \"samples\": y[start:end]\n",
        "    })\n",
        "# Quick view first 5\n",
        "for i, s in enumerate(segments[:5]):\n",
        "    print(i, f\"{s['start_sec']:.2f}-{s['end_sec']:.2f}s dur={s['duration']:.2f}s\")\n"
      ],
      "metadata": {
        "colab": {
          "base_uri": "https://localhost:8080/"
        },
        "id": "nAg4fwNByzaj",
        "outputId": "c2ca5bf6-d303-4560-82ac-a38def885766"
      },
      "execution_count": null,
      "outputs": [
        {
          "output_type": "stream",
          "name": "stdout",
          "text": [
            "Detected 16 speech segments (librosa.effects.split).\n",
            "0 6.94-12.96s dur=6.02s\n",
            "1 13.44-20.29s dur=6.85s\n",
            "2 20.58-26.34s dur=5.76s\n",
            "3 26.53-30.40s dur=3.87s\n",
            "4 30.43-30.59s dur=0.16s\n"
          ]
        }
      ]
    },
    {
      "cell_type": "code",
      "source": [
        "from sklearn.cluster import AgglomerativeClustering\n",
        "import numpy as np\n",
        "import librosa\n",
        "\n",
        "# If less than 2 segments, fallback to single speaker\n",
        "if len(segments) < 2:\n",
        "    print(\"Too few segments to cluster — assuming single speaker.\")\n",
        "    for s in segments:\n",
        "        s[\"speaker\"] = 0\n",
        "else:\n",
        "    # Build an embedding per segment using MFCC mean (lightweight)\n",
        "    embs = []\n",
        "    for s in segments:\n",
        "        mfcc = librosa.feature.mfcc(y=s[\"samples\"], sr=sr, n_mfcc=13)\n",
        "        em = mfcc.mean(axis=1)            # 13-d vector\n",
        "        embs.append(em)\n",
        "    embs = np.vstack(embs)  # shape: (n_segments, 13)\n",
        "\n",
        "    # Agglomerative clustering into 2 clusters (sales rep vs customer heuristic)\n",
        "    n_clusters = 2\n",
        "    clustering = AgglomerativeClustering(n_clusters=n_clusters).fit(embs)\n",
        "    labels = clustering.labels_\n",
        "    for i, s in enumerate(segments):\n",
        "        s[\"speaker\"] = int(labels[i])\n",
        "\n",
        "# Print summary: how many segments for each speaker\n",
        "from collections import Counter\n",
        "print(\"Segment speaker counts:\", Counter([s[\"speaker\"] for s in segments]))\n"
      ],
      "metadata": {
        "colab": {
          "base_uri": "https://localhost:8080/"
        },
        "id": "M9hGc11Ky8TA",
        "outputId": "15293dc5-ac1d-4445-e6ee-5ff2ce4676ec"
      },
      "execution_count": null,
      "outputs": [
        {
          "output_type": "stream",
          "name": "stdout",
          "text": [
            "Segment speaker counts: Counter({0: 14, 1: 2})\n"
          ]
        }
      ]
    },
    {
      "cell_type": "code",
      "source": [
        "from collections import defaultdict\n",
        "\n",
        "# compute talk-time per speaker and longest contiguous monologue\n",
        "dur_per = defaultdict(float)\n",
        "for s in segments:\n",
        "    dur_per[s[\"speaker\"]] += s[\"duration\"]\n",
        "\n",
        "# total speech-only time and total call time\n",
        "total_speech_time = sum(dur_per.values())\n",
        "total_call_time = call_duration\n",
        "\n",
        "# Talk-time as % of speech time and % of entire call\n",
        "talk_ratios_speech_pct = {spk: (dur / total_speech_time) * 100 for spk, dur in dur_per.items()}\n",
        "talk_ratios_call_pct = {spk: (dur / total_call_time) * 100 for spk, dur in dur_per.items()}\n",
        "\n",
        "# Longest monologue: combine consecutive segments with same speaker (segments sorted by start)\n",
        "segments_sorted = sorted(segments, key=lambda x: x[\"start_sec\"])\n",
        "longest_monologue = 0.0\n",
        "current_spk = None\n",
        "current_len = 0.0\n",
        "for s in segments_sorted:\n",
        "    if s[\"speaker\"] == current_spk:\n",
        "        current_len += s[\"duration\"]\n",
        "    else:\n",
        "        current_spk = s[\"speaker\"]\n",
        "        current_len = s[\"duration\"]\n",
        "    if current_len > longest_monologue:\n",
        "        longest_monologue = current_len\n",
        "\n",
        "print(\"Talk-time (relative to speech):\", {k: f\"{v:.1f}%\" for k,v in talk_ratios_speech_pct.items()})\n",
        "print(\"Talk-time (relative to full call):\", {k: f\"{v:.1f}%\" for k,v in talk_ratios_call_pct.items()})\n",
        "print(f\"Longest monologue: {longest_monologue:.2f} seconds\")\n"
      ],
      "metadata": {
        "colab": {
          "base_uri": "https://localhost:8080/"
        },
        "id": "re--GrXmzEdg",
        "outputId": "5a0f9a12-09c1-44c9-9726-2025e0878e9a"
      },
      "execution_count": null,
      "outputs": [
        {
          "output_type": "stream",
          "name": "stdout",
          "text": [
            "Talk-time (relative to speech): {0: '99.7%', 1: '0.3%'}\n",
            "Talk-time (relative to full call): {0: '91.0%', 1: '0.3%'}\n",
            "Longest monologue: 47.78 seconds\n"
          ]
        }
      ]
    },
    {
      "cell_type": "code",
      "source": [
        "import whisper\n",
        "model = whisper.load_model(\"tiny\")   # tiny = fastest. Use \"base\" if you have time/compute.\n",
        "# print(\"Whisper model loaded:\", model.name) # Removed this line\n",
        "\n",
        "res = model.transcribe(audio_path, verbose=False)  # returns 'text' and 'segments'\n",
        "transcript = res[\"text\"].strip()\n",
        "print(\"Transcript (first 400 chars):\\n\", transcript[:400].replace(\"\\n\",\" \"))\n",
        "\n",
        "# Map each whisper segment to a diarization speaker by midpoint overlap heuristic\n",
        "whisper_segments = res.get(\"segments\", [])\n",
        "def assign_speaker_to_whisper(seg):\n",
        "    mid = (seg[\"start\"] + seg[\"end\"]) / 2.0\n",
        "    # find diarization segment that contains midpoint\n",
        "    for s in segments_sorted:\n",
        "        if s[\"start_sec\"] <= mid <= s[\"end_sec\"]:\n",
        "            return s[\"speaker\"]\n",
        "    # else fallback to nearest by midpoint\n",
        "    if segments_sorted:\n",
        "        dists = [abs(mid - ((s[\"start_sec\"] + s[\"end_sec\"]) / 2.0)) for s in segments_sorted]\n",
        "        return segments_sorted[int(np.argmin(dists))][\"speaker\"]\n",
        "    return 0\n",
        "\n",
        "mapped = []\n",
        "for seg in whisper_segments:\n",
        "    spk = assign_speaker_to_whisper(seg)\n",
        "    mapped.append({\"start\": seg[\"start\"], \"end\": seg[\"end\"], \"text\": seg[\"text\"].strip(), \"speaker\": spk})\n",
        "\n",
        "# Quick print first few mapped segments\n",
        "for m in mapped[:8]:\n",
        "    print(f\"[Speaker {m['speaker']}] {m['start']:.1f}-{m['end']:.1f}s: {m['text']}\")"
      ],
      "metadata": {
        "colab": {
          "base_uri": "https://localhost:8080/"
        },
        "id": "WLiVZ8Y4zKgM",
        "outputId": "ca2e9a36-7a4d-4436-9a6c-8df795c963bc"
      },
      "execution_count": null,
      "outputs": [
        {
          "output_type": "stream",
          "name": "stderr",
          "text": [
            "/usr/local/lib/python3.12/dist-packages/whisper/transcribe.py:132: UserWarning: FP16 is not supported on CPU; using FP32 instead\n",
            "  warnings.warn(\"FP16 is not supported on CPU; using FP32 instead\")\n"
          ]
        },
        {
          "output_type": "stream",
          "name": "stdout",
          "text": [
            "Detected language: English\n"
          ]
        },
        {
          "output_type": "stream",
          "name": "stderr",
          "text": [
            "100%|██████████| 12000/12000 [00:13<00:00, 866.10frames/s]"
          ]
        },
        {
          "output_type": "stream",
          "name": "stdout",
          "text": [
            "Transcript (first 400 chars):\n",
            " Thank you for calling me son. My name is Lauren. Can I have your name? Yes, my name is John Smith. Thank you, John. How can I help you? I was just calling about to see how much it would cost to update the map in my car. I'd be happy to help you with that today. Did you receive a mail or from us? I did. Do you need the customer number? Yes, please. Okay. It's 15243. Thank you and the year making mo\n",
            "[Speaker 0] 0.0-11.4s: Thank you for calling me son. My name is Lauren. Can I have your name?\n",
            "[Speaker 0] 11.4-16.0s: Yes, my name is John Smith. Thank you, John. How can I help you?\n",
            "[Speaker 0] 16.0-20.5s: I was just calling about to see how much it would cost to update the map in my car.\n",
            "[Speaker 0] 20.5-24.0s: I'd be happy to help you with that today. Did you receive a mail or from us?\n",
            "[Speaker 0] 24.0-26.5s: I did. Do you need the customer number?\n",
            "[Speaker 0] 26.5-30.5s: Yes, please. Okay. It's 15243.\n",
            "[Speaker 0] 30.5-33.5s: Thank you and the year making model of your vehicle.\n",
            "[Speaker 0] 33.5-37.5s: Yeah, I have a 2009 Nissan Altaman.\n"
          ]
        },
        {
          "output_type": "stream",
          "name": "stderr",
          "text": [
            "\n"
          ]
        }
      ]
    },
    {
      "cell_type": "code",
      "source": [
        "# Role heuristic: speaker with more talk_time (over speech time) -> sales rep\n",
        "if dur_per:\n",
        "    rep_speaker = max(dur_per, key=dur_per.get)\n",
        "    cust_speaker = min(dur_per, key=dur_per.get)\n",
        "    roles = {rep_speaker: \"Sales Rep (heuristic)\", cust_speaker: \"Customer (heuristic)\"}\n",
        "else:\n",
        "    roles = {}\n",
        "\n",
        "# Simple heuristic to count questions by the customer\n",
        "num_questions = 0\n",
        "if cust_speaker in roles: # Ensure cust_speaker is defined\n",
        "    for segment in mapped:\n",
        "        if segment['speaker'] == cust_speaker and segment['text'].strip().endswith('?'):\n",
        "            num_questions += 1\n",
        "else:\n",
        "    # Handle case where cust_speaker is not defined (e.g., single speaker)\n",
        "    num_questions = 0\n",
        "\n",
        "\n",
        "# Actionable insight rules (simple heuristics)\n",
        "insight = \"No clear insight.\"\n",
        "if dur_per:\n",
        "    rep_pct = (dur_per[rep_speaker] / total_speech_time) * 100 if total_speech_time>0 else 0\n",
        "    if rep_pct > 65 and num_questions > 3:\n",
        "        insight = \"Sales rep dominates the conversation while customer asks multiple questions — rep should pause more and use clarifying/shorter responses; ask more open-ended questions to engage.\"\n",
        "    elif rep_pct > 65:\n",
        "        insight = \"Sales rep dominates the call — recommend more active listening and ask the customer about needs rather than long monologues.\"\n",
        "    elif num_questions < 2:\n",
        "        insight = \"Very few questions asked — train reps to use more open-ended questions to uncover customer needs.\"\n",
        "    else:\n",
        "        insight = \"Conversation is relatively balanced. Focus on improving empathy and clarifying follow-ups.\"\n",
        "\n",
        "# Need to define overall_sentiment before using it in the print statement\n",
        "# For now, I'll set a placeholder or you can add code to calculate sentiment\n",
        "overall_sentiment = \"Sentiment not calculated\" # Placeholder\n",
        "\n",
        "# Final print\n",
        "print(\"\\n===== FINAL SUMMARY =====\")\n",
        "print(f\"Total call duration (used): {total_call_time:.1f}s  (speech-only: {total_speech_time:.1f}s)\")\n",
        "print(\"Talk-time (speech %):\", {k: f\"{v:.1f}%\" for k,v in talk_ratios_speech_pct.items()})\n",
        "print(\"Talk-time (call %):\", {k: f\"{v:.1f}%\" for k,v in talk_ratios_call_pct.items()})\n",
        "print(\"Number of questions:\", num_questions)\n",
        "print(\"Longest monologue (s):\", f\"{longest_monologue:.2f}\")\n",
        "print(\"Call sentiment:\", overall_sentiment)\n",
        "print(\"Role (heuristic):\", roles)\n",
        "print(\"Actionable insight:\", insight)"
      ],
      "metadata": {
        "colab": {
          "base_uri": "https://localhost:8080/"
        },
        "id": "JZbe9aNUztxV",
        "outputId": "fc45fdf3-1d91-49a5-dd2f-34dbbec38c94"
      },
      "execution_count": null,
      "outputs": [
        {
          "output_type": "stream",
          "name": "stdout",
          "text": [
            "\n",
            "===== FINAL SUMMARY =====\n",
            "Total call duration (used): 120.0s  (speech-only: 109.6s)\n",
            "Talk-time (speech %): {0: '99.7%', 1: '0.3%'}\n",
            "Talk-time (call %): {0: '91.0%', 1: '0.3%'}\n",
            "Number of questions: 0\n",
            "Longest monologue (s): 47.78\n",
            "Call sentiment: Sentiment not calculated\n",
            "Role (heuristic): {0: 'Sales Rep (heuristic)', 1: 'Customer (heuristic)'}\n",
            "Actionable insight: Sales rep dominates the call — recommend more active listening and ask the customer about needs rather than long monologues.\n"
          ]
        }
      ]
    },
    {
      "cell_type": "code",
      "source": [
        "import json\n",
        "out = {\n",
        "    \"call_used_file\": audio_path,\n",
        "    \"total_call_time_s\": total_call_time,\n",
        "    \"speech_time_s\": total_speech_time,\n",
        "    \"talk_time_speech_pct\": {str(k): v for k,v in talk_ratios_speech_pct.items()},\n",
        "    \"talk_time_call_pct\": {str(k): v for k,v in talk_ratios_call_pct.items()},\n",
        "    \"num_questions\": int(num_questions),\n",
        "    \"longest_monologue_s\": float(longest_monologue),\n",
        "    \"sentiment\": overall_sentiment,\n",
        "    \"roles_heuristic\": roles,\n",
        "    \"insight\": insight,\n",
        "    \"transcript_preview\": transcript[:2000]\n",
        "}\n",
        "with open(\"call_analysis.json\", \"w\") as f:\n",
        "    json.dump(out, f, indent=2)\n",
        "print(\"Saved results to call_analysis.json\")\n"
      ],
      "metadata": {
        "colab": {
          "base_uri": "https://localhost:8080/"
        },
        "id": "8EtErTlbz5a9",
        "outputId": "eb79a558-bbb4-4af6-c36a-9df7b314a254"
      },
      "execution_count": null,
      "outputs": [
        {
          "output_type": "stream",
          "name": "stdout",
          "text": [
            "Saved results to call_analysis.json\n"
          ]
        }
      ]
    },
    {
      "cell_type": "code",
      "source": [
        "import json\n",
        "\n",
        "# Load and display the saved results\n",
        "with open(\"call_analysis.json\", \"r\") as f:\n",
        "    results = json.load(f)\n",
        "\n",
        "# Print nicely\n",
        "import pprint\n",
        "pprint.pprint(results)\n"
      ],
      "metadata": {
        "colab": {
          "base_uri": "https://localhost:8080/"
        },
        "id": "gdFieAv72Pe2",
        "outputId": "c40abb44-5675-404c-fbf6-3d7ac8b0b687"
      },
      "execution_count": null,
      "outputs": [
        {
          "output_type": "stream",
          "name": "stdout",
          "text": [
            "{'call_used_file': 'call_16k_mono_120s.wav',\n",
            " 'insight': 'Sales rep dominates the call — recommend more active listening '\n",
            "            'and ask the customer about needs rather than long monologues.',\n",
            " 'longest_monologue_s': 47.775999999999996,\n",
            " 'num_questions': 0,\n",
            " 'roles_heuristic': {'0': 'Sales Rep (heuristic)', '1': 'Customer (heuristic)'},\n",
            " 'sentiment': 'Sentiment not calculated',\n",
            " 'speech_time_s': 109.568,\n",
            " 'talk_time_call_pct': {'0': 91.03999999999999, '1': 0.26666666666666666},\n",
            " 'talk_time_speech_pct': {'0': 99.70794392523365, '1': 0.2920560747663552},\n",
            " 'total_call_time_s': 120.0,\n",
            " 'transcript_preview': 'Thank you for calling me son. My name is Lauren. Can I '\n",
            "                       'have your name? Yes, my name is John Smith. Thank you, '\n",
            "                       'John. How can I help you? I was just calling about to '\n",
            "                       'see how much it would cost to update the map in my '\n",
            "                       \"car. I'd be happy to help you with that today. Did you \"\n",
            "                       'receive a mail or from us? I did. Do you need the '\n",
            "                       \"customer number? Yes, please. Okay. It's 15243. Thank \"\n",
            "                       'you and the year making model of your vehicle. Yeah, I '\n",
            "                       'have a 2009 Nissan Altaman. So nice car. Yeah, thank '\n",
            "                       'you. We really enjoy it. Okay. I think I found your '\n",
            "                       'profile here. Can I have you verify your address and '\n",
            "                       \"phone number? Please. Yes. It's 1265 North Research \"\n",
            "                       \"Way. That's an RM UTA-84097. And my phone number is \"\n",
            "                       'A01-431-1000. Thanks, John. I located your '\n",
            "                       'information. The newest version we have available for '\n",
            "                       'your vehicle is version 7.7, which was released in '\n",
            "                       'March of 2012. The price of the new map is $99. Push '\n",
            "                       'it, being attacked. Let me go ahead and set up this '\n",
            "                       \"order for you. Can we wait just a second? I'm not \"\n",
            "                       'really sure if I can afford it right now. All right. '\n",
            "                       'Well, here are a few reasons to consider purchasing '\n",
            "                       \"today. It looks as though you haven't updated your \"\n",
            "                       'vehicle for three years. So that would be the '\n",
            "                       'equivalent of getting three years worth of updates for '\n",
            "                       'the price of one. Okay. In addition, special offers '\n",
            "                       \"like the current promotion don't come around too \"\n",
            "                       'often. I would definitely recommend taking advantage '\n",
            "                       'of the extra $50 off before it expires. Yeah, that '\n",
            "                       'does sound pretty good. If I set this order up for you '\n",
            "                       \"now, it'll ship out today and for $50 less. Do you \"\n",
            "                       'have your credit card handy and I can place this order '\n",
            "                       \"for you now? Yeah. Let's go ahead and use your visa.\"}\n"
          ]
        }
      ]
    },
    {
      "cell_type": "code",
      "source": [
        "import json\n",
        "\n",
        "# Open the saved JSON file\n",
        "with open(\"call_analysis.json\", \"r\") as f:\n",
        "    results = json.load(f)\n",
        "\n",
        "# Print results nicely\n",
        "import pprint\n",
        "pprint.pprint(results)\n"
      ],
      "metadata": {
        "colab": {
          "base_uri": "https://localhost:8080/"
        },
        "id": "qA805PfH4RyC",
        "outputId": "c2be7949-e980-4094-9f55-35ceef4f9a50"
      },
      "execution_count": 66,
      "outputs": [
        {
          "output_type": "stream",
          "name": "stdout",
          "text": [
            "{'call_used_file': 'call_16k_mono_120s.wav',\n",
            " 'insight': 'Sales rep dominates the call — recommend more active listening '\n",
            "            'and ask the customer about needs rather than long monologues.',\n",
            " 'longest_monologue_s': 47.775999999999996,\n",
            " 'num_questions': 0,\n",
            " 'roles_heuristic': {'0': 'Sales Rep (heuristic)', '1': 'Customer (heuristic)'},\n",
            " 'sentiment': 'Sentiment not calculated',\n",
            " 'speech_time_s': 109.568,\n",
            " 'talk_time_call_pct': {'0': 91.03999999999999, '1': 0.26666666666666666},\n",
            " 'talk_time_speech_pct': {'0': 99.70794392523365, '1': 0.2920560747663552},\n",
            " 'total_call_time_s': 120.0,\n",
            " 'transcript_preview': 'Thank you for calling me son. My name is Lauren. Can I '\n",
            "                       'have your name? Yes, my name is John Smith. Thank you, '\n",
            "                       'John. How can I help you? I was just calling about to '\n",
            "                       'see how much it would cost to update the map in my '\n",
            "                       \"car. I'd be happy to help you with that today. Did you \"\n",
            "                       'receive a mail or from us? I did. Do you need the '\n",
            "                       \"customer number? Yes, please. Okay. It's 15243. Thank \"\n",
            "                       'you and the year making model of your vehicle. Yeah, I '\n",
            "                       'have a 2009 Nissan Altaman. So nice car. Yeah, thank '\n",
            "                       'you. We really enjoy it. Okay. I think I found your '\n",
            "                       'profile here. Can I have you verify your address and '\n",
            "                       \"phone number? Please. Yes. It's 1265 North Research \"\n",
            "                       \"Way. That's an RM UTA-84097. And my phone number is \"\n",
            "                       'A01-431-1000. Thanks, John. I located your '\n",
            "                       'information. The newest version we have available for '\n",
            "                       'your vehicle is version 7.7, which was released in '\n",
            "                       'March of 2012. The price of the new map is $99. Push '\n",
            "                       'it, being attacked. Let me go ahead and set up this '\n",
            "                       \"order for you. Can we wait just a second? I'm not \"\n",
            "                       'really sure if I can afford it right now. All right. '\n",
            "                       'Well, here are a few reasons to consider purchasing '\n",
            "                       \"today. It looks as though you haven't updated your \"\n",
            "                       'vehicle for three years. So that would be the '\n",
            "                       'equivalent of getting three years worth of updates for '\n",
            "                       'the price of one. Okay. In addition, special offers '\n",
            "                       \"like the current promotion don't come around too \"\n",
            "                       'often. I would definitely recommend taking advantage '\n",
            "                       'of the extra $50 off before it expires. Yeah, that '\n",
            "                       'does sound pretty good. If I set this order up for you '\n",
            "                       \"now, it'll ship out today and for $50 less. Do you \"\n",
            "                       'have your credit card handy and I can place this order '\n",
            "                       \"for you now? Yeah. Let's go ahead and use your visa.\"}\n"
          ]
        }
      ]
    },
    {
      "cell_type": "code",
      "source": [
        "print(\"\\n--- Final Results ---\")\n",
        "print(\"Talk-time ratio:\", results['talk_time_speech_pct'])\n",
        "print(\"Number of questions:\", results['num_questions'])\n",
        "print(\"Longest monologue (s):\", results['longest_monologue_s'])\n",
        "print(\"Sentiment:\", results['sentiment'])\n",
        "print(\"Insight:\", results['insight'])\n",
        "print(\"Roles (heuristic):\", results['roles_heuristic'])\n"
      ],
      "metadata": {
        "colab": {
          "base_uri": "https://localhost:8080/"
        },
        "id": "-L3sPTNk5_VI",
        "outputId": "b542bd47-be40-4a0d-9e83-a78ca06ebf23"
      },
      "execution_count": 70,
      "outputs": [
        {
          "output_type": "stream",
          "name": "stdout",
          "text": [
            "\n",
            "--- Final Results ---\n",
            "Talk-time ratio: {'0': 99.70794392523365, '1': 0.2920560747663552}\n",
            "Number of questions: 0\n",
            "Longest monologue (s): 47.775999999999996\n",
            "Sentiment: Sentiment not calculated\n",
            "Insight: Sales rep dominates the call — recommend more active listening and ask the customer about needs rather than long monologues.\n",
            "Roles (heuristic): {'0': 'Sales Rep (heuristic)', '1': 'Customer (heuristic)'}\n"
          ]
        }
      ]
    },
    {
      "cell_type": "code",
      "source": [
        "import os\n",
        "import json\n",
        "from transformers import pipeline\n",
        "\n",
        "# ---------------------------\n",
        "# Example transcript (replace with your actual transcript variable)\n",
        "# ---------------------------\n",
        "# If you already have \"transcript\", skip this assignment\n",
        "transcript = \"\"\"\n",
        "Thank you for calling me son. My name is Lauren. Can I have your name?\n",
        "Yes, my name is John Smith...\n",
        "\"\"\"\n",
        "\n",
        "# ---------------------------\n",
        "# Sentiment Analysis\n",
        "# ---------------------------\n",
        "sentiment_analyzer = pipeline(\"sentiment-analysis\")\n",
        "text_for_sentiment = transcript[:500]   # first 500 chars to keep it fast\n",
        "sentiment_result = sentiment_analyzer(text_for_sentiment)[0]\n",
        "overall_sentiment = sentiment_result['label']  # \"POSITIVE\" / \"NEGATIVE\"\n",
        "\n",
        "# ---------------------------\n",
        "# Example metrics (replace with your computed values)\n",
        "# ---------------------------\n",
        "results = {\n",
        "    \"call_used_file\": \"call_16k_mono_120s.wav\",\n",
        "    \"total_call_time_s\": 120.0,\n",
        "    \"speech_time_s\": 109.568,\n",
        "    \"talk_time_call_pct\": {\"0\": 91.04, \"1\": 0.27},\n",
        "    \"talk_time_speech_pct\": {\"0\": 99.70, \"1\": 0.29},\n",
        "    \"num_questions\": 0,\n",
        "    \"longest_monologue_s\": 47.77,\n",
        "    \"sentiment\": overall_sentiment,\n",
        "    \"roles_heuristic\": {\"0\": \"Sales Rep (heuristic)\", \"1\": \"Customer (heuristic)\"},\n",
        "    \"insight\": \"Sales rep dominates the call — recommend more active listening and ask the customer about needs rather than long monologues.\",\n",
        "    \"transcript_preview\": transcript[:300]\n",
        "}\n",
        "\n",
        "# ---------------------------\n",
        "# Save to JSON\n",
        "# ---------------------------\n",
        "with open(\"call_analysis.json\", \"w\") as f:\n",
        "    json.dump(results, f, indent=2)\n",
        "\n",
        "# ---------------------------\n",
        "# Pretty Print Final Results\n",
        "# ---------------------------\n",
        "print(\"\\n--- Final Results ---\")\n",
        "print(\"Talk-time ratio:\", results['talk_time_speech_pct'])\n",
        "print(\"Number of questions:\", results['num_questions'])\n",
        "print(\"Longest monologue (s):\", results['longest_monologue_s'])\n",
        "print(\"Sentiment:\", results['sentiment'])\n",
        "print(\"Insight:\", results['insight'])\n",
        "print(\"Roles (heuristic):\", results['roles_heuristic'])\n"
      ],
      "metadata": {
        "colab": {
          "base_uri": "https://localhost:8080/"
        },
        "id": "S5KIi4om6fCW",
        "outputId": "28be71c6-1a0c-4af1-d17b-e13279fd5d99"
      },
      "execution_count": 72,
      "outputs": [
        {
          "output_type": "stream",
          "name": "stderr",
          "text": [
            "No model was supplied, defaulted to distilbert/distilbert-base-uncased-finetuned-sst-2-english and revision 714eb0f (https://huggingface.co/distilbert/distilbert-base-uncased-finetuned-sst-2-english).\n",
            "Using a pipeline without specifying a model name and revision in production is not recommended.\n",
            "Device set to use cpu\n"
          ]
        },
        {
          "output_type": "stream",
          "name": "stdout",
          "text": [
            "\n",
            "--- Final Results ---\n",
            "Talk-time ratio: {'0': 99.7, '1': 0.29}\n",
            "Number of questions: 0\n",
            "Longest monologue (s): 47.77\n",
            "Sentiment: POSITIVE\n",
            "Insight: Sales rep dominates the call — recommend more active listening and ask the customer about needs rather than long monologues.\n",
            "Roles (heuristic): {'0': 'Sales Rep (heuristic)', '1': 'Customer (heuristic)'}\n"
          ]
        }
      ]
    }
  ]
}